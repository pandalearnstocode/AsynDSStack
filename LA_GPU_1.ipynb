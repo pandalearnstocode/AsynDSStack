{
  "nbformat": 4,
  "nbformat_minor": 0,
  "metadata": {
    "colab": {
      "name": "LA_GPU_1.ipynb",
      "provenance": [],
      "collapsed_sections": [],
      "authorship_tag": "ABX9TyM7cW4nAa3e9TLlrHXlpEjy",
      "include_colab_link": true
    },
    "kernelspec": {
      "name": "python3",
      "display_name": "Python 3"
    },
    "language_info": {
      "name": "python"
    },
    "accelerator": "GPU"
  },
  "cells": [
    {
      "cell_type": "markdown",
      "metadata": {
        "id": "view-in-github",
        "colab_type": "text"
      },
      "source": [
        "<a href=\"https://colab.research.google.com/github/pandalearnstocode/AsynDSStack/blob/master/LA_GPU_1.ipynb\" target=\"_parent\"><img src=\"https://colab.research.google.com/assets/colab-badge.svg\" alt=\"Open In Colab\"/></a>"
      ]
    },
    {
      "cell_type": "code",
      "execution_count": 6,
      "metadata": {
        "colab": {
          "base_uri": "https://localhost:8080/"
        },
        "id": "sDtBkd9tFMsa",
        "outputId": "741c7c66-d269-4d45-ab77-116b47da04ab"
      },
      "outputs": [
        {
          "output_type": "stream",
          "name": "stderr",
          "text": [
            "2022-02-19 13:07:37.472 | INFO     | __main__:<module>:5 - Numpy version: 1.21.5\n",
            "2022-02-19 13:07:37.476 | INFO     | __main__:<module>:6 - Numba version: 0.51.2\n",
            "2022-02-19 13:07:37.478 | INFO     | __main__:<module>:7 - Cupy version: 9.4.0\n"
          ]
        }
      ],
      "source": [
        "import cupy as cp\n",
        "import numpy as np\n",
        "import numba as nb\n",
        "from loguru import logger\n",
        "logger.info(f\"Numpy version: {np.__version__}\")\n",
        "logger.info(f\"Numba version: {nb.__version__}\")\n",
        "logger.info(f\"Cupy version: {cp.__version__}\")"
      ]
    },
    {
      "cell_type": "code",
      "source": [
        ""
      ],
      "metadata": {
        "id": "8BZjhIKCFwBq"
      },
      "execution_count": null,
      "outputs": []
    }
  ]
}