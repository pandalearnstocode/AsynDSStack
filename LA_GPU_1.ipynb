{
  "nbformat": 4,
  "nbformat_minor": 0,
  "metadata": {
    "colab": {
      "name": "LA_GPU_1.ipynb",
      "provenance": [],
      "collapsed_sections": [],
      "authorship_tag": "ABX9TyPDkLhuOjbbWb/WQ/Pr/kfK",
      "include_colab_link": true
    },
    "kernelspec": {
      "name": "python3",
      "display_name": "Python 3"
    },
    "language_info": {
      "name": "python"
    },
    "accelerator": "GPU"
  },
  "cells": [
    {
      "cell_type": "markdown",
      "metadata": {
        "id": "view-in-github",
        "colab_type": "text"
      },
      "source": [
        "<a href=\"https://colab.research.google.com/github/pandalearnstocode/AsynDSStack/blob/master/LA_GPU_1.ipynb\" target=\"_parent\"><img src=\"https://colab.research.google.com/assets/colab-badge.svg\" alt=\"Open In Colab\"/></a>"
      ]
    },
    {
      "cell_type": "code",
      "execution_count": 28,
      "metadata": {
        "colab": {
          "base_uri": "https://localhost:8080/"
        },
        "id": "sDtBkd9tFMsa",
        "outputId": "fd9ab948-9fa1-4aab-b134-88e56b95ec36"
      },
      "outputs": [
        {
          "output_type": "stream",
          "name": "stderr",
          "text": [
            "2022-02-19 15:32:57.429 | INFO     | __main__:<module>:10 - Numpy version: 1.21.5\n",
            "2022-02-19 15:32:57.430 | INFO     | __main__:<module>:11 - Numba version: 0.51.2\n",
            "2022-02-19 15:32:57.434 | INFO     | __main__:<module>:12 - Cupy version: 9.4.0\n",
            "2022-02-19 15:32:57.437 | INFO     | __main__:<module>:13 - Scipy version: 1.4.1\n"
          ]
        }
      ],
      "source": [
        "# !pip install loguru\n",
        "import cupy as cp\n",
        "import numpy as np\n",
        "import numba as nb\n",
        "from loguru import logger\n",
        "import scipy\n",
        "from scipy.linalg import cholesky\n",
        "from scipy.linalg import cho_factor\n",
        "from scipy.linalg import cho_solve\n",
        "logger.info(f\"Numpy version: {np.__version__}\")\n",
        "logger.info(f\"Numba version: {nb.__version__}\")\n",
        "logger.info(f\"Cupy version: {cp.__version__}\")\n",
        "logger.info(f\"Scipy version: {scipy.__version__}\")"
      ]
    },
    {
      "cell_type": "code",
      "source": [
        "# https://stackoverflow.com/questions/68754407/why-are-cuda-gpu-matrix-multiplies-slower-than-numpy-how-is-numpy-so-fast"
      ],
      "metadata": {
        "id": "KRZM6T9xGZ3h"
      },
      "execution_count": 29,
      "outputs": []
    },
    {
      "cell_type": "code",
      "source": [
        "x_cpu = np.random.randint(0,255, (10000,10000))\n",
        "xtx = x_cpu.T @ x_cpu"
      ],
      "metadata": {
        "id": "ncN-Ga5MGc-U"
      },
      "execution_count": null,
      "outputs": []
    },
    {
      "cell_type": "code",
      "source": [
        "%timeit cho_solve(cho_factor(xtx,lower=True), np.eye(xtx.shape[0]))"
      ],
      "metadata": {
        "colab": {
          "base_uri": "https://localhost:8080/"
        },
        "id": "ba1sGZqUlcHL",
        "outputId": "1c7ae518-40f8-42d9-a1af-970fb272537f"
      },
      "execution_count": 40,
      "outputs": [
        {
          "output_type": "stream",
          "name": "stdout",
          "text": [
            "1 loop, best of 5: 558 ms per loop\n"
          ]
        }
      ]
    },
    {
      "cell_type": "code",
      "source": [
        "%timeit np.linalg.inv(xtx)"
      ],
      "metadata": {
        "colab": {
          "base_uri": "https://localhost:8080/"
        },
        "id": "y0mpaZAnld6x",
        "outputId": "dc2f7c87-8cbb-4283-80e4-7435fa29133a"
      },
      "execution_count": 41,
      "outputs": [
        {
          "output_type": "stream",
          "name": "stdout",
          "text": [
            "1 loop, best of 5: 616 ms per loop\n"
          ]
        }
      ]
    }
  ]
}